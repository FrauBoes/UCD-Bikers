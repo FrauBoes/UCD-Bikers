{
 "cells": [
  {
   "cell_type": "code",
   "execution_count": 1,
   "metadata": {},
   "outputs": [
    {
     "name": "stderr",
     "output_type": "stream",
     "text": [
      "/Users/thelma/anaconda3/lib/python3.6/site-packages/ipykernel_launcher.py:17: SettingWithCopyWarning: \n",
      "A value is trying to be set on a copy of a slice from a DataFrame.\n",
      "Try using .loc[row_indexer,col_indexer] = value instead\n",
      "\n",
      "See the caveats in the documentation: http://pandas.pydata.org/pandas-docs/stable/indexing.html#indexing-view-versus-copy\n",
      "/Users/thelma/anaconda3/lib/python3.6/site-packages/ipykernel_launcher.py:19: SettingWithCopyWarning: \n",
      "A value is trying to be set on a copy of a slice from a DataFrame.\n",
      "Try using .loc[row_indexer,col_indexer] = value instead\n",
      "\n",
      "See the caveats in the documentation: http://pandas.pydata.org/pandas-docs/stable/indexing.html#indexing-view-versus-copy\n"
     ]
    },
    {
     "data": {
      "text/html": [
       "<div>\n",
       "<style scoped>\n",
       "    .dataframe tbody tr th:only-of-type {\n",
       "        vertical-align: middle;\n",
       "    }\n",
       "\n",
       "    .dataframe tbody tr th {\n",
       "        vertical-align: top;\n",
       "    }\n",
       "\n",
       "    .dataframe thead th {\n",
       "        text-align: right;\n",
       "    }\n",
       "</style>\n",
       "<table border=\"1\" class=\"dataframe\">\n",
       "  <thead>\n",
       "    <tr style=\"text-align: right;\">\n",
       "      <th></th>\n",
       "      <th>Time</th>\n",
       "      <th>Bikes Avail</th>\n",
       "    </tr>\n",
       "  </thead>\n",
       "  <tbody>\n",
       "    <tr>\n",
       "      <th>17671</th>\n",
       "      <td>2018-03-08 05:00:51</td>\n",
       "      <td>7</td>\n",
       "    </tr>\n",
       "    <tr>\n",
       "      <th>17771</th>\n",
       "      <td>2018-03-08 05:00:51</td>\n",
       "      <td>7</td>\n",
       "    </tr>\n",
       "    <tr>\n",
       "      <th>17871</th>\n",
       "      <td>2018-03-08 05:10:55</td>\n",
       "      <td>7</td>\n",
       "    </tr>\n",
       "    <tr>\n",
       "      <th>17971</th>\n",
       "      <td>2018-03-08 05:10:55</td>\n",
       "      <td>7</td>\n",
       "    </tr>\n",
       "    <tr>\n",
       "      <th>18071</th>\n",
       "      <td>2018-03-08 05:20:59</td>\n",
       "      <td>7</td>\n",
       "    </tr>\n",
       "    <tr>\n",
       "      <th>18171</th>\n",
       "      <td>2018-03-08 05:25:40</td>\n",
       "      <td>6</td>\n",
       "    </tr>\n",
       "    <tr>\n",
       "      <th>18271</th>\n",
       "      <td>2018-03-08 05:33:09</td>\n",
       "      <td>6</td>\n",
       "    </tr>\n",
       "    <tr>\n",
       "      <th>18371</th>\n",
       "      <td>2018-03-08 05:33:09</td>\n",
       "      <td>6</td>\n",
       "    </tr>\n",
       "    <tr>\n",
       "      <th>18471</th>\n",
       "      <td>2018-03-08 05:43:14</td>\n",
       "      <td>5</td>\n",
       "    </tr>\n",
       "    <tr>\n",
       "      <th>18571</th>\n",
       "      <td>2018-03-08 05:43:14</td>\n",
       "      <td>5</td>\n",
       "    </tr>\n",
       "    <tr>\n",
       "      <th>18671</th>\n",
       "      <td>2018-03-08 05:49:49</td>\n",
       "      <td>5</td>\n",
       "    </tr>\n",
       "    <tr>\n",
       "      <th>18771</th>\n",
       "      <td>2018-03-08 05:55:09</td>\n",
       "      <td>4</td>\n",
       "    </tr>\n",
       "    <tr>\n",
       "      <th>18871</th>\n",
       "      <td>2018-03-08 05:55:09</td>\n",
       "      <td>4</td>\n",
       "    </tr>\n",
       "    <tr>\n",
       "      <th>18971</th>\n",
       "      <td>2018-03-08 06:05:13</td>\n",
       "      <td>3</td>\n",
       "    </tr>\n",
       "    <tr>\n",
       "      <th>19071</th>\n",
       "      <td>2018-03-08 06:05:13</td>\n",
       "      <td>3</td>\n",
       "    </tr>\n",
       "    <tr>\n",
       "      <th>19171</th>\n",
       "      <td>2018-03-08 06:18:22</td>\n",
       "      <td>3</td>\n",
       "    </tr>\n",
       "    <tr>\n",
       "      <th>19271</th>\n",
       "      <td>2018-03-08 06:18:22</td>\n",
       "      <td>3</td>\n",
       "    </tr>\n",
       "    <tr>\n",
       "      <th>19371</th>\n",
       "      <td>2018-03-08 06:28:25</td>\n",
       "      <td>2</td>\n",
       "    </tr>\n",
       "    <tr>\n",
       "      <th>19471</th>\n",
       "      <td>2018-03-08 06:33:08</td>\n",
       "      <td>2</td>\n",
       "    </tr>\n",
       "    <tr>\n",
       "      <th>19571</th>\n",
       "      <td>2018-03-08 06:37:16</td>\n",
       "      <td>0</td>\n",
       "    </tr>\n",
       "    <tr>\n",
       "      <th>19671</th>\n",
       "      <td>2018-03-08 06:37:16</td>\n",
       "      <td>0</td>\n",
       "    </tr>\n",
       "    <tr>\n",
       "      <th>19771</th>\n",
       "      <td>2018-03-08 06:47:20</td>\n",
       "      <td>0</td>\n",
       "    </tr>\n",
       "    <tr>\n",
       "      <th>19871</th>\n",
       "      <td>2018-03-08 06:47:20</td>\n",
       "      <td>0</td>\n",
       "    </tr>\n",
       "    <tr>\n",
       "      <th>19971</th>\n",
       "      <td>2018-03-08 06:57:24</td>\n",
       "      <td>0</td>\n",
       "    </tr>\n",
       "    <tr>\n",
       "      <th>20071</th>\n",
       "      <td>2018-03-08 06:57:24</td>\n",
       "      <td>0</td>\n",
       "    </tr>\n",
       "    <tr>\n",
       "      <th>20171</th>\n",
       "      <td>2018-03-08 07:07:29</td>\n",
       "      <td>0</td>\n",
       "    </tr>\n",
       "    <tr>\n",
       "      <th>20271</th>\n",
       "      <td>2018-03-08 07:07:29</td>\n",
       "      <td>0</td>\n",
       "    </tr>\n",
       "    <tr>\n",
       "      <th>20371</th>\n",
       "      <td>2018-03-08 07:15:53</td>\n",
       "      <td>0</td>\n",
       "    </tr>\n",
       "    <tr>\n",
       "      <th>20471</th>\n",
       "      <td>2018-03-08 07:15:53</td>\n",
       "      <td>0</td>\n",
       "    </tr>\n",
       "    <tr>\n",
       "      <th>20571</th>\n",
       "      <td>2018-03-08 07:25:57</td>\n",
       "      <td>0</td>\n",
       "    </tr>\n",
       "    <tr>\n",
       "      <th>...</th>\n",
       "      <td>...</td>\n",
       "      <td>...</td>\n",
       "    </tr>\n",
       "    <tr>\n",
       "      <th>38071</th>\n",
       "      <td>2018-03-08 22:03:49</td>\n",
       "      <td>18</td>\n",
       "    </tr>\n",
       "    <tr>\n",
       "      <th>38171</th>\n",
       "      <td>2018-03-08 22:03:49</td>\n",
       "      <td>18</td>\n",
       "    </tr>\n",
       "    <tr>\n",
       "      <th>38271</th>\n",
       "      <td>2018-03-08 22:15:21</td>\n",
       "      <td>16</td>\n",
       "    </tr>\n",
       "    <tr>\n",
       "      <th>38371</th>\n",
       "      <td>2018-03-08 22:15:21</td>\n",
       "      <td>16</td>\n",
       "    </tr>\n",
       "    <tr>\n",
       "      <th>38471</th>\n",
       "      <td>2018-03-08 22:25:33</td>\n",
       "      <td>15</td>\n",
       "    </tr>\n",
       "    <tr>\n",
       "      <th>38571</th>\n",
       "      <td>2018-03-08 22:25:33</td>\n",
       "      <td>15</td>\n",
       "    </tr>\n",
       "    <tr>\n",
       "      <th>38671</th>\n",
       "      <td>2018-03-08 22:35:43</td>\n",
       "      <td>15</td>\n",
       "    </tr>\n",
       "    <tr>\n",
       "      <th>38771</th>\n",
       "      <td>2018-03-08 22:35:43</td>\n",
       "      <td>15</td>\n",
       "    </tr>\n",
       "    <tr>\n",
       "      <th>38871</th>\n",
       "      <td>2018-03-08 22:45:52</td>\n",
       "      <td>15</td>\n",
       "    </tr>\n",
       "    <tr>\n",
       "      <th>38971</th>\n",
       "      <td>2018-03-08 22:51:35</td>\n",
       "      <td>17</td>\n",
       "    </tr>\n",
       "    <tr>\n",
       "      <th>39071</th>\n",
       "      <td>2018-03-08 22:51:35</td>\n",
       "      <td>17</td>\n",
       "    </tr>\n",
       "    <tr>\n",
       "      <th>39171</th>\n",
       "      <td>2018-03-08 22:51:35</td>\n",
       "      <td>17</td>\n",
       "    </tr>\n",
       "    <tr>\n",
       "      <th>39271</th>\n",
       "      <td>2018-03-08 23:01:45</td>\n",
       "      <td>17</td>\n",
       "    </tr>\n",
       "    <tr>\n",
       "      <th>39371</th>\n",
       "      <td>2018-03-08 23:01:45</td>\n",
       "      <td>17</td>\n",
       "    </tr>\n",
       "    <tr>\n",
       "      <th>39471</th>\n",
       "      <td>2018-03-08 23:11:56</td>\n",
       "      <td>17</td>\n",
       "    </tr>\n",
       "    <tr>\n",
       "      <th>39571</th>\n",
       "      <td>2018-03-08 23:11:56</td>\n",
       "      <td>17</td>\n",
       "    </tr>\n",
       "    <tr>\n",
       "      <th>39671</th>\n",
       "      <td>2018-03-08 23:22:07</td>\n",
       "      <td>17</td>\n",
       "    </tr>\n",
       "    <tr>\n",
       "      <th>39771</th>\n",
       "      <td>2018-03-08 23:22:07</td>\n",
       "      <td>17</td>\n",
       "    </tr>\n",
       "    <tr>\n",
       "      <th>39871</th>\n",
       "      <td>2018-03-08 23:32:18</td>\n",
       "      <td>17</td>\n",
       "    </tr>\n",
       "    <tr>\n",
       "      <th>39971</th>\n",
       "      <td>2018-03-08 23:41:11</td>\n",
       "      <td>17</td>\n",
       "    </tr>\n",
       "    <tr>\n",
       "      <th>40071</th>\n",
       "      <td>2018-03-08 23:43:53</td>\n",
       "      <td>17</td>\n",
       "    </tr>\n",
       "    <tr>\n",
       "      <th>40171</th>\n",
       "      <td>2018-03-08 23:43:53</td>\n",
       "      <td>17</td>\n",
       "    </tr>\n",
       "    <tr>\n",
       "      <th>40271</th>\n",
       "      <td>2018-03-08 23:54:02</td>\n",
       "      <td>17</td>\n",
       "    </tr>\n",
       "    <tr>\n",
       "      <th>40371</th>\n",
       "      <td>2018-03-08 23:54:02</td>\n",
       "      <td>17</td>\n",
       "    </tr>\n",
       "    <tr>\n",
       "      <th>40471</th>\n",
       "      <td>2018-03-09 00:05:42</td>\n",
       "      <td>18</td>\n",
       "    </tr>\n",
       "    <tr>\n",
       "      <th>40571</th>\n",
       "      <td>2018-03-09 00:10:07</td>\n",
       "      <td>19</td>\n",
       "    </tr>\n",
       "    <tr>\n",
       "      <th>40671</th>\n",
       "      <td>2018-03-09 00:10:07</td>\n",
       "      <td>19</td>\n",
       "    </tr>\n",
       "    <tr>\n",
       "      <th>40771</th>\n",
       "      <td>2018-03-09 00:20:18</td>\n",
       "      <td>19</td>\n",
       "    </tr>\n",
       "    <tr>\n",
       "      <th>40871</th>\n",
       "      <td>2018-03-09 00:20:18</td>\n",
       "      <td>19</td>\n",
       "    </tr>\n",
       "    <tr>\n",
       "      <th>40971</th>\n",
       "      <td>2018-03-09 00:29:45</td>\n",
       "      <td>20</td>\n",
       "    </tr>\n",
       "  </tbody>\n",
       "</table>\n",
       "<p>234 rows × 2 columns</p>\n",
       "</div>"
      ],
      "text/plain": [
       "                     Time  Bikes Avail\n",
       "17671 2018-03-08 05:00:51            7\n",
       "17771 2018-03-08 05:00:51            7\n",
       "17871 2018-03-08 05:10:55            7\n",
       "17971 2018-03-08 05:10:55            7\n",
       "18071 2018-03-08 05:20:59            7\n",
       "18171 2018-03-08 05:25:40            6\n",
       "18271 2018-03-08 05:33:09            6\n",
       "18371 2018-03-08 05:33:09            6\n",
       "18471 2018-03-08 05:43:14            5\n",
       "18571 2018-03-08 05:43:14            5\n",
       "18671 2018-03-08 05:49:49            5\n",
       "18771 2018-03-08 05:55:09            4\n",
       "18871 2018-03-08 05:55:09            4\n",
       "18971 2018-03-08 06:05:13            3\n",
       "19071 2018-03-08 06:05:13            3\n",
       "19171 2018-03-08 06:18:22            3\n",
       "19271 2018-03-08 06:18:22            3\n",
       "19371 2018-03-08 06:28:25            2\n",
       "19471 2018-03-08 06:33:08            2\n",
       "19571 2018-03-08 06:37:16            0\n",
       "19671 2018-03-08 06:37:16            0\n",
       "19771 2018-03-08 06:47:20            0\n",
       "19871 2018-03-08 06:47:20            0\n",
       "19971 2018-03-08 06:57:24            0\n",
       "20071 2018-03-08 06:57:24            0\n",
       "20171 2018-03-08 07:07:29            0\n",
       "20271 2018-03-08 07:07:29            0\n",
       "20371 2018-03-08 07:15:53            0\n",
       "20471 2018-03-08 07:15:53            0\n",
       "20571 2018-03-08 07:25:57            0\n",
       "...                   ...          ...\n",
       "38071 2018-03-08 22:03:49           18\n",
       "38171 2018-03-08 22:03:49           18\n",
       "38271 2018-03-08 22:15:21           16\n",
       "38371 2018-03-08 22:15:21           16\n",
       "38471 2018-03-08 22:25:33           15\n",
       "38571 2018-03-08 22:25:33           15\n",
       "38671 2018-03-08 22:35:43           15\n",
       "38771 2018-03-08 22:35:43           15\n",
       "38871 2018-03-08 22:45:52           15\n",
       "38971 2018-03-08 22:51:35           17\n",
       "39071 2018-03-08 22:51:35           17\n",
       "39171 2018-03-08 22:51:35           17\n",
       "39271 2018-03-08 23:01:45           17\n",
       "39371 2018-03-08 23:01:45           17\n",
       "39471 2018-03-08 23:11:56           17\n",
       "39571 2018-03-08 23:11:56           17\n",
       "39671 2018-03-08 23:22:07           17\n",
       "39771 2018-03-08 23:22:07           17\n",
       "39871 2018-03-08 23:32:18           17\n",
       "39971 2018-03-08 23:41:11           17\n",
       "40071 2018-03-08 23:43:53           17\n",
       "40171 2018-03-08 23:43:53           17\n",
       "40271 2018-03-08 23:54:02           17\n",
       "40371 2018-03-08 23:54:02           17\n",
       "40471 2018-03-09 00:05:42           18\n",
       "40571 2018-03-09 00:10:07           19\n",
       "40671 2018-03-09 00:10:07           19\n",
       "40771 2018-03-09 00:20:18           19\n",
       "40871 2018-03-09 00:20:18           19\n",
       "40971 2018-03-09 00:29:45           20\n",
       "\n",
       "[234 rows x 2 columns]"
      ]
     },
     "execution_count": 1,
     "metadata": {},
     "output_type": "execute_result"
    }
   ],
   "source": [
    "import pandas as pd\n",
    "# import numpy as np\n",
    "import matplotlib.pyplot as plt\n",
    "import pylab\n",
    "\n",
    "# import matplotlib.patches as mpatches\n",
    "# import seaborn as sns\n",
    "# from matplotlib.backends.backend_pdf import PdfPages\n",
    "%matplotlib inline\n",
    "\n",
    "\n",
    "DF = pd.read_csv('SQLdata.csv')\n",
    "\n",
    "\n",
    "df = DF.loc[(DF['Station No.'] == 2) & (DF['Time']>1520485200000) & (DF['Time']<1520555400000)]\n",
    "\n",
    "df['Time'] *= 1000000\n",
    "\n",
    "df['Time'] = pd.to_datetime(df['Time'])\n",
    "\n",
    "# df['Bikes Avail'] /= 6\n",
    "\n",
    "\n",
    "# dfA = df.loc[(df['Station No.'] == 2) & (df['Time']>1520485200000) & (df['Time']<1520555400000)]\n",
    "# dfA = df.loc[(df['Station No.'] == 3)]\n",
    "\n",
    "df= df[['Time','Bikes Avail']]\n",
    "\n",
    "# plt.figure()\n",
    "# plt.plot(dfA['Time'],dfA['Bikes Avail'])\n",
    "# df.hist(column='Bikes Avail',bins=39)\n",
    "\n",
    "df\n"
   ]
  },
  {
   "cell_type": "code",
   "execution_count": 2,
   "metadata": {},
   "outputs": [
    {
     "name": "stderr",
     "output_type": "stream",
     "text": [
      "/Users/thelma/anaconda3/lib/python3.6/site-packages/ipykernel_launcher.py:13: FutureWarning: set_value is deprecated and will be removed in a future release. Please use .at[] or .iat[] accessors instead\n",
      "  del sys.path[0]\n"
     ]
    },
    {
     "data": {
      "text/html": [
       "<div>\n",
       "<style scoped>\n",
       "    .dataframe tbody tr th:only-of-type {\n",
       "        vertical-align: middle;\n",
       "    }\n",
       "\n",
       "    .dataframe tbody tr th {\n",
       "        vertical-align: top;\n",
       "    }\n",
       "\n",
       "    .dataframe thead th {\n",
       "        text-align: right;\n",
       "    }\n",
       "</style>\n",
       "<table border=\"1\" class=\"dataframe\">\n",
       "  <thead>\n",
       "    <tr style=\"text-align: right;\">\n",
       "      <th></th>\n",
       "      <th>Avg bikes</th>\n",
       "    </tr>\n",
       "    <tr>\n",
       "      <th>Time</th>\n",
       "      <th></th>\n",
       "    </tr>\n",
       "  </thead>\n",
       "  <tbody>\n",
       "    <tr>\n",
       "      <th>5:00</th>\n",
       "      <td>6</td>\n",
       "    </tr>\n",
       "    <tr>\n",
       "      <th>5:30</th>\n",
       "      <td>5</td>\n",
       "    </tr>\n",
       "    <tr>\n",
       "      <th>6:00</th>\n",
       "      <td>3</td>\n",
       "    </tr>\n",
       "    <tr>\n",
       "      <th>6:30</th>\n",
       "      <td>0</td>\n",
       "    </tr>\n",
       "    <tr>\n",
       "      <th>7:00</th>\n",
       "      <td>0</td>\n",
       "    </tr>\n",
       "    <tr>\n",
       "      <th>7:30</th>\n",
       "      <td>0</td>\n",
       "    </tr>\n",
       "    <tr>\n",
       "      <th>8:00</th>\n",
       "      <td>0</td>\n",
       "    </tr>\n",
       "    <tr>\n",
       "      <th>8:30</th>\n",
       "      <td>0</td>\n",
       "    </tr>\n",
       "    <tr>\n",
       "      <th>9:00</th>\n",
       "      <td>0</td>\n",
       "    </tr>\n",
       "    <tr>\n",
       "      <th>9:30</th>\n",
       "      <td>0</td>\n",
       "    </tr>\n",
       "    <tr>\n",
       "      <th>10:00</th>\n",
       "      <td>0</td>\n",
       "    </tr>\n",
       "    <tr>\n",
       "      <th>10:30</th>\n",
       "      <td>0</td>\n",
       "    </tr>\n",
       "    <tr>\n",
       "      <th>11:00</th>\n",
       "      <td>0</td>\n",
       "    </tr>\n",
       "    <tr>\n",
       "      <th>11:30</th>\n",
       "      <td>0</td>\n",
       "    </tr>\n",
       "    <tr>\n",
       "      <th>12:00</th>\n",
       "      <td>0</td>\n",
       "    </tr>\n",
       "    <tr>\n",
       "      <th>12:30</th>\n",
       "      <td>0</td>\n",
       "    </tr>\n",
       "    <tr>\n",
       "      <th>13:00</th>\n",
       "      <td>16</td>\n",
       "    </tr>\n",
       "    <tr>\n",
       "      <th>13:30</th>\n",
       "      <td>17</td>\n",
       "    </tr>\n",
       "    <tr>\n",
       "      <th>14:00</th>\n",
       "      <td>17</td>\n",
       "    </tr>\n",
       "    <tr>\n",
       "      <th>14:30</th>\n",
       "      <td>17</td>\n",
       "    </tr>\n",
       "    <tr>\n",
       "      <th>15:00</th>\n",
       "      <td>17</td>\n",
       "    </tr>\n",
       "    <tr>\n",
       "      <th>15:30</th>\n",
       "      <td>16</td>\n",
       "    </tr>\n",
       "    <tr>\n",
       "      <th>16:00</th>\n",
       "      <td>16</td>\n",
       "    </tr>\n",
       "    <tr>\n",
       "      <th>16:30</th>\n",
       "      <td>15</td>\n",
       "    </tr>\n",
       "    <tr>\n",
       "      <th>17:00</th>\n",
       "      <td>12</td>\n",
       "    </tr>\n",
       "    <tr>\n",
       "      <th>17:30</th>\n",
       "      <td>9</td>\n",
       "    </tr>\n",
       "    <tr>\n",
       "      <th>18:00</th>\n",
       "      <td>10</td>\n",
       "    </tr>\n",
       "    <tr>\n",
       "      <th>18:30</th>\n",
       "      <td>14</td>\n",
       "    </tr>\n",
       "    <tr>\n",
       "      <th>19:00</th>\n",
       "      <td>15</td>\n",
       "    </tr>\n",
       "    <tr>\n",
       "      <th>19:30</th>\n",
       "      <td>13</td>\n",
       "    </tr>\n",
       "    <tr>\n",
       "      <th>20:00</th>\n",
       "      <td>13</td>\n",
       "    </tr>\n",
       "    <tr>\n",
       "      <th>20:30</th>\n",
       "      <td>15</td>\n",
       "    </tr>\n",
       "    <tr>\n",
       "      <th>21:00</th>\n",
       "      <td>17</td>\n",
       "    </tr>\n",
       "    <tr>\n",
       "      <th>21:30</th>\n",
       "      <td>19</td>\n",
       "    </tr>\n",
       "    <tr>\n",
       "      <th>22:00</th>\n",
       "      <td>16</td>\n",
       "    </tr>\n",
       "    <tr>\n",
       "      <th>22:30</th>\n",
       "      <td>16</td>\n",
       "    </tr>\n",
       "    <tr>\n",
       "      <th>23:00</th>\n",
       "      <td>17</td>\n",
       "    </tr>\n",
       "    <tr>\n",
       "      <th>23:30</th>\n",
       "      <td>17</td>\n",
       "    </tr>\n",
       "    <tr>\n",
       "      <th>24:00</th>\n",
       "      <td>19</td>\n",
       "    </tr>\n",
       "  </tbody>\n",
       "</table>\n",
       "</div>"
      ],
      "text/plain": [
       "      Avg bikes\n",
       "Time           \n",
       "5:00          6\n",
       "5:30          5\n",
       "6:00          3\n",
       "6:30          0\n",
       "7:00          0\n",
       "7:30          0\n",
       "8:00          0\n",
       "8:30          0\n",
       "9:00          0\n",
       "9:30          0\n",
       "10:00         0\n",
       "10:30         0\n",
       "11:00         0\n",
       "11:30         0\n",
       "12:00         0\n",
       "12:30         0\n",
       "13:00        16\n",
       "13:30        17\n",
       "14:00        17\n",
       "14:30        17\n",
       "15:00        17\n",
       "15:30        16\n",
       "16:00        16\n",
       "16:30        15\n",
       "17:00        12\n",
       "17:30         9\n",
       "18:00        10\n",
       "18:30        14\n",
       "19:00        15\n",
       "19:30        13\n",
       "20:00        13\n",
       "20:30        15\n",
       "21:00        17\n",
       "21:30        19\n",
       "22:00        16\n",
       "22:30        16\n",
       "23:00        17\n",
       "23:30        17\n",
       "24:00        19"
      ]
     },
     "execution_count": 2,
     "metadata": {},
     "output_type": "execute_result"
    }
   ],
   "source": [
    "\n",
    "\n",
    "dfB = pd.DataFrame( columns=['Time','Avg bikes'])\n",
    "\n",
    "i = 0\n",
    "k=0\n",
    "while i <= len(df.index)-6:\n",
    "    c = 0\n",
    "    for j in range(0,6):\n",
    "        c+=df['Bikes Avail'].iloc[i+j]\n",
    "    c=int(c/6)\n",
    "    \n",
    "    dfB.set_value(k, 'Avg bikes', c)\n",
    "    k+=1\n",
    "    i+=6\n",
    "    \n",
    "times = []\n",
    "\n",
    "j = 0\n",
    "for i in range(5,24):\n",
    "    ta = str(i)+':00'\n",
    "    tb = str(i)+':30'\n",
    "    i+=1\n",
    "    times.append(ta)\n",
    "    times.append(tb)\n",
    "times.append('24:00')\n",
    "\n",
    "dfB['Time']=times     \n",
    "\n",
    "dfB=dfB.set_index('Time')\n",
    "dfB"
   ]
  },
  {
   "cell_type": "code",
   "execution_count": null,
   "metadata": {},
   "outputs": [
    {
     "data": {
      "text/plain": [
       "<matplotlib.axes._subplots.AxesSubplot at 0x105e3d9b0>"
      ]
     },
     "execution_count": 3,
     "metadata": {},
     "output_type": "execute_result"
    },
    {
     "data": {
      "image/png": "[encoded data removed]",
      "text/plain": [
       "<matplotlib.figure.Figure at 0x105e5b748>"
      ]
     },
     "metadata": {},
     "output_type": "display_data"
    }
   ],
   "source": [
    "dfB.plot(kind='bar', figsize=(17,10), width=0.95)"
   ]
  },
  {
   "cell_type": "code",
   "execution_count": null,
   "metadata": {},
   "outputs": [
    {
     "name": "stderr",
     "output_type": "stream",
     "text": [
      "/Users/thelma/anaconda3/lib/python3.6/site-packages/matplotlib/pyplot.py:528: RuntimeWarning: More than 20 figures have been opened. Figures created through the pyplot interface (`matplotlib.pyplot.figure`) are retained until explicitly closed and may consume too much memory. (To control this warning, see the rcParam `figure.max_open_warning`).\n",
      "  max_open_warning, RuntimeWarning)\n"
     ]
    },
    {
     "ename": "ValueError",
     "evalue": "cannot convert float NaN to integer",
     "output_type": "error",
     "traceback": [
      "\u001b[0;31m---------------------------------------------------------------------------\u001b[0m",
      "\u001b[0;31mValueError\u001b[0m                                Traceback (most recent call last)",
      "\u001b[0;32m<ipython-input-4-8e14b503d7ee>\u001b[0m in \u001b[0;36m<module>\u001b[0;34m()\u001b[0m\n\u001b[1;32m     28\u001b[0m         \u001b[0mi\u001b[0m\u001b[0;34m+=\u001b[0m\u001b[0;36m6\u001b[0m\u001b[0;34m\u001b[0m\u001b[0m\n\u001b[1;32m     29\u001b[0m     \u001b[0;31m#Generate title for each graph\u001b[0m\u001b[0;34m\u001b[0m\u001b[0;34m\u001b[0m\u001b[0m\n\u001b[0;32m---> 30\u001b[0;31m     \u001b[0mStatNum\u001b[0m \u001b[0;34m=\u001b[0m \u001b[0;34m'Station no.'\u001b[0m\u001b[0;34m+\u001b[0m\u001b[0mstr\u001b[0m\u001b[0;34m(\u001b[0m\u001b[0mint\u001b[0m\u001b[0;34m(\u001b[0m\u001b[0mI\u001b[0m\u001b[0;34m)\u001b[0m\u001b[0;34m)\u001b[0m\u001b[0;34m\u001b[0m\u001b[0m\n\u001b[0m\u001b[1;32m     31\u001b[0m \u001b[0;34m\u001b[0m\u001b[0m\n\u001b[1;32m     32\u001b[0m     \u001b[0mdfG\u001b[0m\u001b[0;34m.\u001b[0m\u001b[0mplot\u001b[0m\u001b[0;34m(\u001b[0m\u001b[0mkind\u001b[0m\u001b[0;34m=\u001b[0m\u001b[0;34m'bar'\u001b[0m\u001b[0;34m,\u001b[0m \u001b[0mfigsize\u001b[0m\u001b[0;34m=\u001b[0m\u001b[0;34m(\u001b[0m\u001b[0;36m18\u001b[0m\u001b[0;34m,\u001b[0m\u001b[0;36m2\u001b[0m\u001b[0;34m)\u001b[0m\u001b[0;34m,\u001b[0m \u001b[0mwidth\u001b[0m\u001b[0;34m=\u001b[0m\u001b[0;36m0.95\u001b[0m\u001b[0;34m,\u001b[0m \u001b[0mposition\u001b[0m\u001b[0;34m=\u001b[0m\u001b[0;36m0\u001b[0m\u001b[0;34m,\u001b[0m \u001b[0mtitle\u001b[0m\u001b[0;34m=\u001b[0m\u001b[0mStatNum\u001b[0m\u001b[0;34m)\u001b[0m\u001b[0;34m\u001b[0m\u001b[0m\n",
      "\u001b[0;31mValueError\u001b[0m: cannot convert float NaN to integer"
     ]
    },
    {
     "data": {
      "text/plain": [
       "<matplotlib.figure.Figure at 0x107a14860>"
      ]
     },
     "metadata": {},
     "output_type": "display_data"
    },
    {
     "data": {
      "image/png": "[encoded data removed]",
      "text/plain": [
       "<matplotlib.figure.Figure at 0x1079ce400>"
      ]
     },
     "metadata": {},
     "output_type": "display_data"
    },
    {
     "data": {
      "text/plain": [
       "<matplotlib.figure.Figure at 0x107a146d8>"
      ]
     },
     "metadata": {},
     "output_type": "display_data"
    },
    {
     "data": {
      "image/png": "[encoded data removed]",
      "text/plain": [
       "<matplotlib.figure.Figure at 0x107b2b438>"
      ]
     },
     "metadata": {},
     "output_type": "display_data"
    },
    {
     "data": {
      "text/plain": [
       "<matplotlib.figure.Figure at 0x107b2bcf8>"
      ]
     },
     "metadata": {},
     "output_type": "display_data"
    },
    {
     "data": {
      "image/png": "[encoded data removed]",
      "text/plain": [
       "<matplotlib.figure.Figure at 0x107c16208>"
      ]
     },
     "metadata": {},
     "output_type": "display_data"
    },
    {
     "data": {
      "text/plain": [
       "<matplotlib.figure.Figure at 0x107b2bd30>"
      ]
     },
     "metadata": {},
     "output_type": "display_data"
    },
    {
     "data": {
      "image/png": "[encoded data removed]",
      "text/plain": [
       "<matplotlib.figure.Figure at 0x107cf65c0>"
      ]
     },
     "metadata": {},
     "output_type": "display_data"
    },
    {
     "data": {
      "text/plain": [
       "<matplotlib.figure.Figure at 0x107c16f28>"
      ]
     },
     "metadata": {},
     "output_type": "display_data"
    },
    {
     "data": {
      "image/png": "[encoded data removed]",
      "text/plain": [
       "<matplotlib.figure.Figure at 0x10a281550>"
      ]
     },
     "metadata": {},
     "output_type": "display_data"
    },
    {
     "data": {
      "text/plain": [
       "<matplotlib.figure.Figure at 0x107cf6c88>"
      ]
     },
     "metadata": {},
     "output_type": "display_data"
    },
    {
     "data": {
      "image/png": "[encoded data removed]",
      "text/plain": [
       "<matplotlib.figure.Figure at 0x10b0cb588>"
      ]
     },
     "metadata": {},
     "output_type": "display_data"
    },
    {
     "data": {
      "text/plain": [
       "<matplotlib.figure.Figure at 0x10a281278>"
      ]
     },
     "metadata": {},
     "output_type": "display_data"
    },
    {
     "data": {
      "image/png": "[encoded data removed]",
      "text/plain": [
       "<matplotlib.figure.Figure at 0x10b1b5048>"
      ]
     },
     "metadata": {},
     "output_type": "display_data"
    },
    {
     "data": {
      "text/plain": [
       "<matplotlib.figure.Figure at 0x10b0cb3c8>"
      ]
     },
     "metadata": {},
     "output_type": "display_data"
    },
    {
     "data": {
      "image/png": "[encoded data removed]",
      "text/plain": [
       "<matplotlib.figure.Figure at 0x10b29dd30>"
      ]
     },
     "metadata": {},
     "output_type": "display_data"
    },
    {
     "data": {
      "text/plain": [
       "<matplotlib.figure.Figure at 0x10b1b5c18>"
      ]
     },
     "metadata": {},
     "output_type": "display_data"
    },
    {
     "data": {
      "image/png": "[encoded data removed]",
      "text/plain": [
       "<matplotlib.figure.Figure at 0x10b3776d8>"
      ]
     },
     "metadata": {},
     "output_type": "display_data"
    },
    {
     "data": {
      "text/plain": [
       "<matplotlib.figure.Figure at 0x10b37d438>"
      ]
     },
     "metadata": {},
     "output_type": "display_data"
    },
    {
     "data": {
      "image/png": "[encoded data removed]",
      "text/plain": [
       "<matplotlib.figure.Figure at 0x10b45a9b0>"
      ]
     },
     "metadata": {},
     "output_type": "display_data"
    },
    {
     "data": {
      "text/plain": [
       "<matplotlib.figure.Figure at 0x10b37d7f0>"
      ]
     },
     "metadata": {},
     "output_type": "display_data"
    },
    {
     "data": {
      "image/png": "[encoded data removed]",
      "text/plain": [
       "<matplotlib.figure.Figure at 0x10b53e9e8>"
      ]
     },
     "metadata": {},
     "output_type": "display_data"
    },
    {
     "data": {
      "text/plain": [
       "<matplotlib.figure.Figure at 0x10b544c88>"
      ]
     },
     "metadata": {},
     "output_type": "display_data"
    },
    {
     "data": {
      "image/png": "[encoded data removed]",
      "text/plain": [
       "<matplotlib.figure.Figure at 0x10b623860>"
      ]
     },
     "metadata": {},
     "output_type": "display_data"
    },
    {
     "data": {
      "text/plain": [
       "<matplotlib.figure.Figure at 0x10b53e198>"
      ]
     },
     "metadata": {},
     "output_type": "display_data"
    },
    {
     "data": {
      "image/png": "[encoded data removed]",
      "text/plain": [
       "<matplotlib.figure.Figure at 0x10b614c50>"
      ]
     },
     "metadata": {},
     "output_type": "display_data"
    },
    {
     "data": {
      "text/plain": [
       "<matplotlib.figure.Figure at 0x10b623630>"
      ]
     },
     "metadata": {},
     "output_type": "display_data"
    },
    {
     "data": {
      "image/png": "[encoded data removed]",
      "text/plain": [
       "<matplotlib.figure.Figure at 0x10b807320>"
      ]
     },
     "metadata": {},
     "output_type": "display_data"
    },
    {
     "data": {
      "text/plain": [
       "<matplotlib.figure.Figure at 0x10b720b38>"
      ]
     },
     "metadata": {},
     "output_type": "display_data"
    },
    {
     "data": {
      "image/png": "[encoded data removed]",
      "text/plain": [
       "<matplotlib.figure.Figure at 0x10b901550>"
      ]
     },
     "metadata": {},
     "output_type": "display_data"
    },
    {
     "data": {
      "text/plain": [
       "<matplotlib.figure.Figure at 0x10b8079b0>"
      ]
     },
     "metadata": {},
     "output_type": "display_data"
    },
    {
     "data": {
      "image/png": "[encoded data removed]",
      "text/plain": [
       "<matplotlib.figure.Figure at 0x10b9e3358>"
      ]
     },
     "metadata": {},
     "output_type": "display_data"
    },
    {
     "data": {
      "text/plain": [
       "<matplotlib.figure.Figure at 0x10b901978>"
      ]
     },
     "metadata": {},
     "output_type": "display_data"
    },
    {
     "data": {
      "image/png": "[encoded data removed]",
      "text/plain": [
       "<matplotlib.figure.Figure at 0x10bace438>"
      ]
     },
     "metadata": {},
     "output_type": "display_data"
    }
   ],
   "source": [
    "StatNo = DF['Station No.'].unique()\n",
    "\n",
    "# Print histograms for all stations on a Thursday\n",
    "\n",
    "#Isolate data from the open times on Thursday 5:00 - 00:30\n",
    "dfTh = DF.loc[(DF['Time']>1520485200000) & (DF['Time']<1520555400000)]\n",
    "\n",
    "#Dataframe used as variable for printing graphs\n",
    "dfG = pd.DataFrame(index = times, columns=['Avg bikes'])\n",
    " \n",
    "# iterate through each station number\n",
    "for I in StatNo:\n",
    "    dfTemp= dfTh.loc[(dfTh['Station No.']==I)]\n",
    "    plt.figure() \n",
    "    i = 0\n",
    "    k=0\n",
    "    #Time intervals are 5 minutes, which it 6 per half hour\n",
    "    #this section calculates the average for each half hour and stores it in the temporary dataframe\n",
    "    while i <= len(dfTemp.index)-6:\n",
    "        c = 0\n",
    "\n",
    "        for j in range(0,6):\n",
    "            c+=dfTemp['Bikes Avail'].iloc[i+j]\n",
    "        c=int(c/6)\n",
    "\n",
    "        dfG.iloc[k,0]=c\n",
    "        k+=1\n",
    "        i+=6\n",
    "    #Generate title for each graph\n",
    "    StatNum = 'Station no.'+str(int(I))\n",
    "    \n",
    "    dfG.plot(kind='bar', figsize=(18,2), width=0.95, position=0, title=StatNum)\n",
    "    \n",
    "    \n",
    "#     filepath = 'Sub /Thursday/Station'+str(int(I))\n",
    "#     plt.savefig(filepath, bbox_inches='tight')"
   ]
  },
  {
   "cell_type": "code",
   "execution_count": null,
   "metadata": {
    "collapsed": true
   },
   "outputs": [],
   "source": [
    "# Print histograms for all stations on a Friday\n",
    "\n",
    "dfFr = DF.loc[(DF['Time']>1520571600000) & (DF['Time']<1520641800000)]\n",
    "\n",
    "dfG = pd.DataFrame(index = times, columns=['Avg bikes'])\n",
    "     \n",
    "for I in StatNo:\n",
    "\n",
    "    dfTemp= dfFr.loc[(dfFr['Station No.']==I)]\n",
    "    plt.figure() \n",
    "    i = 0\n",
    "    k=0\n",
    "\n",
    "    while i <= len(dfTemp.index)-6:\n",
    "        c = 0\n",
    "\n",
    "        for j in range(0,6):\n",
    "            c+=dfTemp['Bikes Avail'].iloc[i+j]\n",
    "        c=int(c/6)\n",
    "\n",
    "        dfG.iloc[k,0]=c\n",
    "        k+=1\n",
    "        i+=6\n",
    "    \n",
    "    StatNum = 'Station no.'+str(int(I))\n",
    "    \n",
    "    dfG.plot(kind='bar', figsize=(18,2), width=0.95, position=0, title=StatNum)"
   ]
  },
  {
   "cell_type": "code",
   "execution_count": null,
   "metadata": {
    "collapsed": true
   },
   "outputs": [],
   "source": [
    "# Print histograms for all stations on a Saturday\n",
    "\n",
    "dfSa = DF.loc[(DF['Time']>1520658000000) & (DF['Time']<1520728200000)]\n",
    "\n",
    "#Dataframe used as variable for printing graphs\n",
    "dfG = pd.DataFrame(index = times, columns=['Avg bikes'])\n",
    " \n",
    "# iterate through each station number\n",
    "for I in StatNo:\n",
    "    dfTemp= dfSa.loc[(dfSa['Station No.']==I)]\n",
    "    fig = plt.figure() \n",
    "    i = 0\n",
    "    k=0\n",
    "    #Time intervals are 5 minutes, which it 6 per half hour\n",
    "    #this section calculates the average for each half hour and stores it in the temporary dataframe\n",
    "    while i <= len(dfTemp.index)-6:\n",
    "        c = 0\n",
    "\n",
    "        for j in range(0,6):\n",
    "            c+=dfTemp['Bikes Avail'].iloc[i+j]\n",
    "        c=int(c/6)\n",
    "\n",
    "        dfG.iloc[k,0]=c\n",
    "        k+=1\n",
    "        i+=6\n",
    "    #Generate title for each graph\n",
    "    StatNum = 'StationNo.'+str(int(I))\n",
    "    \n",
    "    dfG.plot(kind='bar', figsize=(18,2), width=0.95, position=0, title=StatNum)\n",
    "    fig.show()\n",
    "    filename = StatNum+'.png'\n",
    "    fig.savefig(filename)"
   ]
  },
  {
   "cell_type": "code",
   "execution_count": null,
   "metadata": {
    "collapsed": true
   },
   "outputs": [],
   "source": [
    "# Print histograms for all stations on a Sunday\n",
    "\n",
    "dfSu = DF.loc[(DF['Time']>1520744400000) & (DF['Time']<1520814600000)]\n",
    "\n",
    "#Dataframe used as variable for printing graphs\n",
    "dfG = pd.DataFrame(index = times, columns=['Avg bikes'])\n",
    " \n",
    "# iterate through each station number\n",
    "for I in StatNo:\n",
    "    dfTemp= dfSu.loc[(dfSu['Station No.']==I)]\n",
    "    plt.figure() \n",
    "    i = 0\n",
    "    k=0\n",
    "    #Time intervals are 5 minutes, which it 6 per half hour\n",
    "    #this section calculates the average for each half hour and stores it in the temporary dataframe\n",
    "    while i <= len(dfTemp.index)-6:\n",
    "        c = 0\n",
    "\n",
    "        for j in range(0,6):\n",
    "            c+=dfTemp['Bikes Avail'].iloc[i+j]\n",
    "        c=int(c/6)\n",
    "\n",
    "        dfG.iloc[k,0]=c\n",
    "        k+=1\n",
    "        i+=6\n",
    "    #Generate title for each graph\n",
    "    StatNum = 'Station no.'+str(int(I))\n",
    "    \n",
    "    dfG.plot(kind='bar', figsize=(18,2), width=0.95, position=0, title=StatNum)"
   ]
  },
  {
   "cell_type": "code",
   "execution_count": null,
   "metadata": {
    "collapsed": true
   },
   "outputs": [],
   "source": [
    "# Print histograms for all stations on a Saturday\n",
    "\n",
    "dfSa = DF.loc[(DF['Time']>1520658000000) & (DF['Time']<1520728200000)]\n",
    "\n",
    "#Dataframe used as variable for printing graphs\n",
    "dfG = pd.DataFrame(index = times, columns=['Avg bikes'])\n",
    " \n",
    "# iterate through each station number\n",
    "I = StatNo[4]\n",
    "dfTemp= dfSa.loc[(dfSa['Station No.']==I)]\n",
    "plt.figure() \n",
    "i = 0\n",
    "k=0\n",
    "#Time intervals are 5 minutes, which it 6 per half hour\n",
    "#this section calculates the average for each half hour and stores it in the temporary dataframe\n",
    "while i <= len(dfTemp.index)-6:\n",
    "    c = 0\n",
    "\n",
    "    for j in range(0,6):\n",
    "        c+=dfTemp['Bikes Avail'].iloc[i+j]\n",
    "    c=int(c/6)\n",
    "\n",
    "    dfG.iloc[k,0]=c\n",
    "    k+=1\n",
    "    i+=6\n",
    "#Generate title for each graph\n",
    "StatNum = 'StationNo.'+str(int(I))\n",
    "\n",
    "dfG.plot(kind='bar', figsize=(18,2), width=0.95, position=0, title=StatNum)\n",
    "# fig.show()\n",
    "filename = StatNum+'.png'\n",
    "plt.savefig('SAVE.png', bbox_inches='tight')"
   ]
  }
 ],
 "metadata": {
  "kernelspec": {
   "display_name": "Python 3",
   "language": "python",
   "name": "python3"
  },
  "language_info": {
   "codemirror_mode": {
    "name": "ipython",
    "version": 3
   },
   "file_extension": ".py",
   "mimetype": "text/x-python",
   "name": "python",
   "nbconvert_exporter": "python",
   "pygments_lexer": "ipython3",
   "version": "3.6.3"
  }
 },
 "nbformat": 4,
 "nbformat_minor": 2
}
