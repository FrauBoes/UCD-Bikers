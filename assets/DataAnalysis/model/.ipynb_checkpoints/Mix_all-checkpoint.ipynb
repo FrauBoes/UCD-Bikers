{
 "cells": [
  {
   "cell_type": "code",
   "execution_count": 32,
   "metadata": {
    "collapsed": true
   },
   "outputs": [],
   "source": [
    "import sys\n",
    "import pandas as pd\n",
    "import numpy as np\n",
    "from pandas import DataFrame\n",
    "import matplotlib.pyplot as plt\n",
    "%matplotlib inline"
   ]
  },
  {
   "cell_type": "code",
   "execution_count": 33,
   "metadata": {},
   "outputs": [],
   "source": [
    "df_h = pd.read_csv(\"historic_mix.csv\")\n",
    "df_n = pd.read_csv(\"mix.csv\")"
   ]
  },
  {
   "cell_type": "code",
   "execution_count": 34,
   "metadata": {},
   "outputs": [
    {
     "data": {
      "text/plain": [
       "Station No.            float64\n",
       "Status                  object\n",
       "Time                     int64\n",
       "Stands                   int64\n",
       "Bikes Avail              int64\n",
       "Spaces Avail             int64\n",
       "Bank                     int64\n",
       "human_readible          object\n",
       "weather_tamp           float64\n",
       "weather_rain           float64\n",
       "weather_temperature    float64\n",
       "weather_time            object\n",
       "dtype: object"
      ]
     },
     "execution_count": 34,
     "metadata": {},
     "output_type": "execute_result"
    }
   ],
   "source": [
    "df_h.dtypes"
   ]
  },
  {
   "cell_type": "code",
   "execution_count": 35,
   "metadata": {},
   "outputs": [
    {
     "data": {
      "text/html": [
       "<div>\n",
       "<style>\n",
       "    .dataframe thead tr:only-child th {\n",
       "        text-align: right;\n",
       "    }\n",
       "\n",
       "    .dataframe thead th {\n",
       "        text-align: left;\n",
       "    }\n",
       "\n",
       "    .dataframe tbody tr th {\n",
       "        vertical-align: top;\n",
       "    }\n",
       "</style>\n",
       "<table border=\"1\" class=\"dataframe\">\n",
       "  <thead>\n",
       "    <tr style=\"text-align: right;\">\n",
       "      <th></th>\n",
       "      <th>Station No.</th>\n",
       "      <th>Status</th>\n",
       "      <th>Time</th>\n",
       "      <th>Stands</th>\n",
       "      <th>Bikes Avail</th>\n",
       "      <th>Spaces Avail</th>\n",
       "      <th>Bank</th>\n",
       "      <th>human_readible</th>\n",
       "      <th>weather_tamp</th>\n",
       "      <th>weather_rain</th>\n",
       "      <th>weather_temperature</th>\n",
       "      <th>weather_time</th>\n",
       "    </tr>\n",
       "  </thead>\n",
       "  <tbody>\n",
       "    <tr>\n",
       "      <th>0</th>\n",
       "      <td>42.0</td>\n",
       "      <td>OPEN</td>\n",
       "      <td>1521068603000</td>\n",
       "      <td>30</td>\n",
       "      <td>10</td>\n",
       "      <td>20</td>\n",
       "      <td>1</td>\n",
       "      <td>14/03/2018 23:03:23</td>\n",
       "      <td>1.521072e+12</td>\n",
       "      <td>0.78</td>\n",
       "      <td>8.45</td>\n",
       "      <td>15/03/2018 00:00</td>\n",
       "    </tr>\n",
       "    <tr>\n",
       "      <th>1</th>\n",
       "      <td>30.0</td>\n",
       "      <td>OPEN</td>\n",
       "      <td>1521068983000</td>\n",
       "      <td>20</td>\n",
       "      <td>20</td>\n",
       "      <td>0</td>\n",
       "      <td>1</td>\n",
       "      <td>14/03/2018 23:09:43</td>\n",
       "      <td>1.521072e+12</td>\n",
       "      <td>0.78</td>\n",
       "      <td>8.45</td>\n",
       "      <td>15/03/2018 00:00</td>\n",
       "    </tr>\n",
       "    <tr>\n",
       "      <th>2</th>\n",
       "      <td>54.0</td>\n",
       "      <td>OPEN</td>\n",
       "      <td>1521068619000</td>\n",
       "      <td>33</td>\n",
       "      <td>2</td>\n",
       "      <td>31</td>\n",
       "      <td>0</td>\n",
       "      <td>14/03/2018 23:03:39</td>\n",
       "      <td>1.521072e+12</td>\n",
       "      <td>0.78</td>\n",
       "      <td>8.45</td>\n",
       "      <td>15/03/2018 00:00</td>\n",
       "    </tr>\n",
       "    <tr>\n",
       "      <th>3</th>\n",
       "      <td>56.0</td>\n",
       "      <td>OPEN</td>\n",
       "      <td>1521068973000</td>\n",
       "      <td>40</td>\n",
       "      <td>6</td>\n",
       "      <td>34</td>\n",
       "      <td>0</td>\n",
       "      <td>14/03/2018 23:09:33</td>\n",
       "      <td>1.521072e+12</td>\n",
       "      <td>0.78</td>\n",
       "      <td>8.45</td>\n",
       "      <td>15/03/2018 00:00</td>\n",
       "    </tr>\n",
       "    <tr>\n",
       "      <th>4</th>\n",
       "      <td>6.0</td>\n",
       "      <td>OPEN</td>\n",
       "      <td>1521069146000</td>\n",
       "      <td>20</td>\n",
       "      <td>4</td>\n",
       "      <td>16</td>\n",
       "      <td>0</td>\n",
       "      <td>14/03/2018 23:12:26</td>\n",
       "      <td>1.521072e+12</td>\n",
       "      <td>0.78</td>\n",
       "      <td>8.45</td>\n",
       "      <td>15/03/2018 00:00</td>\n",
       "    </tr>\n",
       "  </tbody>\n",
       "</table>\n",
       "</div>"
      ],
      "text/plain": [
       "   Station No. Status           Time  Stands  Bikes Avail  Spaces Avail  Bank  \\\n",
       "0         42.0   OPEN  1521068603000      30           10            20     1   \n",
       "1         30.0   OPEN  1521068983000      20           20             0     1   \n",
       "2         54.0   OPEN  1521068619000      33            2            31     0   \n",
       "3         56.0   OPEN  1521068973000      40            6            34     0   \n",
       "4          6.0   OPEN  1521069146000      20            4            16     0   \n",
       "\n",
       "        human_readible  weather_tamp  weather_rain  weather_temperature  \\\n",
       "0  14/03/2018 23:03:23  1.521072e+12          0.78                 8.45   \n",
       "1  14/03/2018 23:09:43  1.521072e+12          0.78                 8.45   \n",
       "2  14/03/2018 23:03:39  1.521072e+12          0.78                 8.45   \n",
       "3  14/03/2018 23:09:33  1.521072e+12          0.78                 8.45   \n",
       "4  14/03/2018 23:12:26  1.521072e+12          0.78                 8.45   \n",
       "\n",
       "       weather_time  \n",
       "0  15/03/2018 00:00  \n",
       "1  15/03/2018 00:00  \n",
       "2  15/03/2018 00:00  \n",
       "3  15/03/2018 00:00  \n",
       "4  15/03/2018 00:00  "
      ]
     },
     "execution_count": 35,
     "metadata": {},
     "output_type": "execute_result"
    }
   ],
   "source": [
    "df_h.head()"
   ]
  },
  {
   "cell_type": "code",
   "execution_count": 36,
   "metadata": {},
   "outputs": [
    {
     "data": {
      "text/html": [
       "<div>\n",
       "<style>\n",
       "    .dataframe thead tr:only-child th {\n",
       "        text-align: right;\n",
       "    }\n",
       "\n",
       "    .dataframe thead th {\n",
       "        text-align: left;\n",
       "    }\n",
       "\n",
       "    .dataframe tbody tr th {\n",
       "        vertical-align: top;\n",
       "    }\n",
       "</style>\n",
       "<table border=\"1\" class=\"dataframe\">\n",
       "  <thead>\n",
       "    <tr style=\"text-align: right;\">\n",
       "      <th></th>\n",
       "      <th>Unnamed: 0</th>\n",
       "      <th>STATION_NUMBER</th>\n",
       "      <th>TIME</th>\n",
       "      <th>STATUS</th>\n",
       "      <th>NUMBER_OF_BIKES</th>\n",
       "      <th>NUMBER_OF_STANDS</th>\n",
       "      <th>NUMBER_OF_SPACES</th>\n",
       "      <th>time</th>\n",
       "      <th>weather_tamp</th>\n",
       "      <th>weather_rain</th>\n",
       "      <th>weather_temperature</th>\n",
       "      <th>weather_time</th>\n",
       "    </tr>\n",
       "  </thead>\n",
       "  <tbody>\n",
       "    <tr>\n",
       "      <th>0</th>\n",
       "      <td>0</td>\n",
       "      <td>42.0</td>\n",
       "      <td>1.522870e+12</td>\n",
       "      <td>OPEN</td>\n",
       "      <td>24.0</td>\n",
       "      <td>30.0</td>\n",
       "      <td>6.0</td>\n",
       "      <td>04/04/2018 20:29:32</td>\n",
       "      <td>1.522872e+12</td>\n",
       "      <td>0.0</td>\n",
       "      <td>5.62</td>\n",
       "      <td>04/04/2018 21:00</td>\n",
       "    </tr>\n",
       "    <tr>\n",
       "      <th>1</th>\n",
       "      <td>1</td>\n",
       "      <td>30.0</td>\n",
       "      <td>1.522870e+12</td>\n",
       "      <td>OPEN</td>\n",
       "      <td>14.0</td>\n",
       "      <td>20.0</td>\n",
       "      <td>6.0</td>\n",
       "      <td>04/04/2018 20:28:54</td>\n",
       "      <td>1.522872e+12</td>\n",
       "      <td>0.0</td>\n",
       "      <td>5.62</td>\n",
       "      <td>04/04/2018 21:00</td>\n",
       "    </tr>\n",
       "    <tr>\n",
       "      <th>2</th>\n",
       "      <td>2</td>\n",
       "      <td>54.0</td>\n",
       "      <td>1.522870e+12</td>\n",
       "      <td>OPEN</td>\n",
       "      <td>2.0</td>\n",
       "      <td>33.0</td>\n",
       "      <td>31.0</td>\n",
       "      <td>04/04/2018 20:29:32</td>\n",
       "      <td>1.522872e+12</td>\n",
       "      <td>0.0</td>\n",
       "      <td>5.62</td>\n",
       "      <td>04/04/2018 21:00</td>\n",
       "    </tr>\n",
       "    <tr>\n",
       "      <th>3</th>\n",
       "      <td>3</td>\n",
       "      <td>56.0</td>\n",
       "      <td>1.522870e+12</td>\n",
       "      <td>OPEN</td>\n",
       "      <td>15.0</td>\n",
       "      <td>40.0</td>\n",
       "      <td>25.0</td>\n",
       "      <td>04/04/2018 20:27:49</td>\n",
       "      <td>1.522872e+12</td>\n",
       "      <td>0.0</td>\n",
       "      <td>5.62</td>\n",
       "      <td>04/04/2018 21:00</td>\n",
       "    </tr>\n",
       "    <tr>\n",
       "      <th>4</th>\n",
       "      <td>4</td>\n",
       "      <td>6.0</td>\n",
       "      <td>1.522870e+12</td>\n",
       "      <td>OPEN</td>\n",
       "      <td>7.0</td>\n",
       "      <td>20.0</td>\n",
       "      <td>12.0</td>\n",
       "      <td>04/04/2018 20:29:27</td>\n",
       "      <td>1.522872e+12</td>\n",
       "      <td>0.0</td>\n",
       "      <td>5.62</td>\n",
       "      <td>04/04/2018 21:00</td>\n",
       "    </tr>\n",
       "  </tbody>\n",
       "</table>\n",
       "</div>"
      ],
      "text/plain": [
       "   Unnamed: 0  STATION_NUMBER          TIME STATUS  NUMBER_OF_BIKES  \\\n",
       "0           0            42.0  1.522870e+12   OPEN             24.0   \n",
       "1           1            30.0  1.522870e+12   OPEN             14.0   \n",
       "2           2            54.0  1.522870e+12   OPEN              2.0   \n",
       "3           3            56.0  1.522870e+12   OPEN             15.0   \n",
       "4           4             6.0  1.522870e+12   OPEN              7.0   \n",
       "\n",
       "   NUMBER_OF_STANDS  NUMBER_OF_SPACES                 time  weather_tamp  \\\n",
       "0              30.0               6.0  04/04/2018 20:29:32  1.522872e+12   \n",
       "1              20.0               6.0  04/04/2018 20:28:54  1.522872e+12   \n",
       "2              33.0              31.0  04/04/2018 20:29:32  1.522872e+12   \n",
       "3              40.0              25.0  04/04/2018 20:27:49  1.522872e+12   \n",
       "4              20.0              12.0  04/04/2018 20:29:27  1.522872e+12   \n",
       "\n",
       "   weather_rain  weather_temperature      weather_time  \n",
       "0           0.0                 5.62  04/04/2018 21:00  \n",
       "1           0.0                 5.62  04/04/2018 21:00  \n",
       "2           0.0                 5.62  04/04/2018 21:00  \n",
       "3           0.0                 5.62  04/04/2018 21:00  \n",
       "4           0.0                 5.62  04/04/2018 21:00  "
      ]
     },
     "execution_count": 36,
     "metadata": {},
     "output_type": "execute_result"
    }
   ],
   "source": [
    "df_n.head()"
   ]
  },
  {
   "cell_type": "code",
   "execution_count": 37,
   "metadata": {},
   "outputs": [],
   "source": [
    "df_n1=df_n.drop([\"Unnamed: 0\",\"weather_time\",\"time\",\"weather_tamp\"],1)"
   ]
  },
  {
   "cell_type": "code",
   "execution_count": 38,
   "metadata": {},
   "outputs": [
    {
     "data": {
      "text/plain": [
       "STATION_NUMBER         float64\n",
       "TIME                   float64\n",
       "STATUS                  object\n",
       "NUMBER_OF_BIKES        float64\n",
       "NUMBER_OF_STANDS       float64\n",
       "NUMBER_OF_SPACES       float64\n",
       "weather_rain           float64\n",
       "weather_temperature    float64\n",
       "dtype: object"
      ]
     },
     "execution_count": 38,
     "metadata": {},
     "output_type": "execute_result"
    }
   ],
   "source": [
    "df_n1.dtypes"
   ]
  },
  {
   "cell_type": "code",
   "execution_count": 39,
   "metadata": {
    "collapsed": true
   },
   "outputs": [],
   "source": [
    "df_n1['STATION_NUMBER']=df_n1.STATION_NUMBER.astype(int)\n",
    "df_n1['TIME']=df_n1.TIME.astype(int)\n",
    "df_n1['NUMBER_OF_BIKES']=df_n1.NUMBER_OF_BIKES.astype(int)\n",
    "df_n1['NUMBER_OF_STANDS']=df_n1.NUMBER_OF_STANDS.astype(int)\n",
    "df_n1['NUMBER_OF_SPACES']=df_n1.NUMBER_OF_SPACES.astype(int)"
   ]
  },
  {
   "cell_type": "code",
   "execution_count": 40,
   "metadata": {
    "collapsed": true
   },
   "outputs": [],
   "source": [
    "df_n1=df_n1.drop([\"NUMBER_OF_STANDS\"],1)"
   ]
  },
  {
   "cell_type": "code",
   "execution_count": 41,
   "metadata": {},
   "outputs": [
    {
     "data": {
      "text/html": [
       "<div>\n",
       "<style>\n",
       "    .dataframe thead tr:only-child th {\n",
       "        text-align: right;\n",
       "    }\n",
       "\n",
       "    .dataframe thead th {\n",
       "        text-align: left;\n",
       "    }\n",
       "\n",
       "    .dataframe tbody tr th {\n",
       "        vertical-align: top;\n",
       "    }\n",
       "</style>\n",
       "<table border=\"1\" class=\"dataframe\">\n",
       "  <thead>\n",
       "    <tr style=\"text-align: right;\">\n",
       "      <th></th>\n",
       "      <th>STATION_NUMBER</th>\n",
       "      <th>TIME</th>\n",
       "      <th>STATUS</th>\n",
       "      <th>NUMBER_OF_BIKES</th>\n",
       "      <th>NUMBER_OF_SPACES</th>\n",
       "      <th>weather_rain</th>\n",
       "      <th>weather_temperature</th>\n",
       "    </tr>\n",
       "  </thead>\n",
       "  <tbody>\n",
       "    <tr>\n",
       "      <th>0</th>\n",
       "      <td>42</td>\n",
       "      <td>1522870172000</td>\n",
       "      <td>OPEN</td>\n",
       "      <td>24</td>\n",
       "      <td>6</td>\n",
       "      <td>0.0</td>\n",
       "      <td>5.62</td>\n",
       "    </tr>\n",
       "    <tr>\n",
       "      <th>1</th>\n",
       "      <td>30</td>\n",
       "      <td>1522870134000</td>\n",
       "      <td>OPEN</td>\n",
       "      <td>14</td>\n",
       "      <td>6</td>\n",
       "      <td>0.0</td>\n",
       "      <td>5.62</td>\n",
       "    </tr>\n",
       "    <tr>\n",
       "      <th>2</th>\n",
       "      <td>54</td>\n",
       "      <td>1522870172000</td>\n",
       "      <td>OPEN</td>\n",
       "      <td>2</td>\n",
       "      <td>31</td>\n",
       "      <td>0.0</td>\n",
       "      <td>5.62</td>\n",
       "    </tr>\n",
       "    <tr>\n",
       "      <th>3</th>\n",
       "      <td>56</td>\n",
       "      <td>1522870069000</td>\n",
       "      <td>OPEN</td>\n",
       "      <td>15</td>\n",
       "      <td>25</td>\n",
       "      <td>0.0</td>\n",
       "      <td>5.62</td>\n",
       "    </tr>\n",
       "    <tr>\n",
       "      <th>4</th>\n",
       "      <td>6</td>\n",
       "      <td>1522870167000</td>\n",
       "      <td>OPEN</td>\n",
       "      <td>7</td>\n",
       "      <td>12</td>\n",
       "      <td>0.0</td>\n",
       "      <td>5.62</td>\n",
       "    </tr>\n",
       "  </tbody>\n",
       "</table>\n",
       "</div>"
      ],
      "text/plain": [
       "   STATION_NUMBER           TIME STATUS  NUMBER_OF_BIKES  NUMBER_OF_SPACES  \\\n",
       "0              42  1522870172000   OPEN               24                 6   \n",
       "1              30  1522870134000   OPEN               14                 6   \n",
       "2              54  1522870172000   OPEN                2                31   \n",
       "3              56  1522870069000   OPEN               15                25   \n",
       "4               6  1522870167000   OPEN                7                12   \n",
       "\n",
       "   weather_rain  weather_temperature  \n",
       "0           0.0                 5.62  \n",
       "1           0.0                 5.62  \n",
       "2           0.0                 5.62  \n",
       "3           0.0                 5.62  \n",
       "4           0.0                 5.62  "
      ]
     },
     "execution_count": 41,
     "metadata": {},
     "output_type": "execute_result"
    }
   ],
   "source": [
    "df_n1.head()"
   ]
  },
  {
   "cell_type": "code",
   "execution_count": 42,
   "metadata": {
    "collapsed": true
   },
   "outputs": [],
   "source": [
    "# DROP and standize the df_h data"
   ]
  },
  {
   "cell_type": "code",
   "execution_count": 43,
   "metadata": {},
   "outputs": [
    {
     "data": {
      "text/plain": [
       "Station No.            float64\n",
       "Status                  object\n",
       "Time                     int64\n",
       "Stands                   int64\n",
       "Bikes Avail              int64\n",
       "Spaces Avail             int64\n",
       "Bank                     int64\n",
       "human_readible          object\n",
       "weather_tamp           float64\n",
       "weather_rain           float64\n",
       "weather_temperature    float64\n",
       "weather_time            object\n",
       "dtype: object"
      ]
     },
     "execution_count": 43,
     "metadata": {},
     "output_type": "execute_result"
    }
   ],
   "source": [
    "df_h.dtypes"
   ]
  },
  {
   "cell_type": "code",
   "execution_count": 44,
   "metadata": {},
   "outputs": [],
   "source": [
    "df_h1= df_h.drop([\"Bank\",\"weather_time\",\"human_readible\",\"weather_tamp\",\"Stands\"],1)"
   ]
  },
  {
   "cell_type": "code",
   "execution_count": 45,
   "metadata": {},
   "outputs": [
    {
     "data": {
      "text/plain": [
       "Station No.            float64\n",
       "Status                  object\n",
       "Time                     int64\n",
       "Bikes Avail              int64\n",
       "Spaces Avail             int64\n",
       "weather_rain           float64\n",
       "weather_temperature    float64\n",
       "dtype: object"
      ]
     },
     "execution_count": 45,
     "metadata": {},
     "output_type": "execute_result"
    }
   ],
   "source": [
    "df_h1.dtypes"
   ]
  },
  {
   "cell_type": "code",
   "execution_count": 46,
   "metadata": {},
   "outputs": [],
   "source": [
    "df_h1.rename(columns={'Station No.':'STATION_NUMBER',\"Status\":\"STATUS\",\"Time\":\"TIME\",\"Bikes Avail\":\"NUMBER_OF_BIKES\",\"Spaces Avail\":\"NUMBER_OF_SPACES\"},inplace = True)"
   ]
  },
  {
   "cell_type": "code",
   "execution_count": 47,
   "metadata": {},
   "outputs": [
    {
     "data": {
      "text/plain": [
       "STATION_NUMBER         float64\n",
       "STATUS                  object\n",
       "TIME                     int64\n",
       "NUMBER_OF_BIKES          int64\n",
       "NUMBER_OF_SPACES         int64\n",
       "weather_rain           float64\n",
       "weather_temperature    float64\n",
       "dtype: object"
      ]
     },
     "execution_count": 47,
     "metadata": {},
     "output_type": "execute_result"
    }
   ],
   "source": [
    "df_h1.dtypes"
   ]
  },
  {
   "cell_type": "code",
   "execution_count": 48,
   "metadata": {},
   "outputs": [],
   "source": [
    "df_h1['STATION_NUMBER']=df_h1.STATION_NUMBER.astype(int)"
   ]
  },
  {
   "cell_type": "code",
   "execution_count": null,
   "metadata": {
    "collapsed": true
   },
   "outputs": [],
   "source": []
  },
  {
   "cell_type": "code",
   "execution_count": null,
   "metadata": {
    "collapsed": true
   },
   "outputs": [],
   "source": []
  },
  {
   "cell_type": "code",
   "execution_count": null,
   "metadata": {
    "collapsed": true
   },
   "outputs": [],
   "source": []
  }
 ],
 "metadata": {
  "kernelspec": {
   "display_name": "Python 3",
   "language": "python",
   "name": "python3"
  },
  "language_info": {
   "codemirror_mode": {
    "name": "ipython",
    "version": 3
   },
   "file_extension": ".py",
   "mimetype": "text/x-python",
   "name": "python",
   "nbconvert_exporter": "python",
   "pygments_lexer": "ipython3",
   "version": "3.6.3"
  }
 },
 "nbformat": 4,
 "nbformat_minor": 2
}
